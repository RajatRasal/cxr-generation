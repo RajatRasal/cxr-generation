{
 "cells": [
  {
   "cell_type": "code",
   "execution_count": 1,
   "id": "9faeef27-591e-4f82-99ca-8abb0b7b561f",
   "metadata": {},
   "outputs": [],
   "source": [
    "from prompt_to_prompt import ptp_utils, seq_aligner\n",
    "from prompt_to_prompt.attention import AttentionStore"
   ]
  },
  {
   "cell_type": "code",
   "execution_count": 2,
   "id": "65b0c21d-0874-4ddf-bafc-ba090ad24e6f",
   "metadata": {},
   "outputs": [
    {
     "name": "stderr",
     "output_type": "stream",
     "text": [
      "/vol/biomedic3/rrr2417/cxr-generation/z/lib/python3.9/site-packages/transformers/utils/hub.py:123: FutureWarning: Using `TRANSFORMERS_CACHE` is deprecated and will be removed in v5 of Transformers. Use `HF_HOME` instead.\n",
      "  warnings.warn(\n"
     ]
    }
   ],
   "source": [
    "import torch\n",
    "from diffusers import StableDiffusionPipeline"
   ]
  },
  {
   "cell_type": "code",
   "execution_count": 3,
   "id": "c3eecd0b-79de-479c-b057-4f9f24bfa4f9",
   "metadata": {},
   "outputs": [],
   "source": [
    "NUM_DIFFUSION_STEPS = 50\n",
    "GUIDANCE_SCALE = 7.5\n",
    "MAX_NUM_WORDS = 77"
   ]
  },
  {
   "cell_type": "code",
   "execution_count": 4,
   "id": "04a98336-ace9-4572-90e1-27c3f6214f84",
   "metadata": {},
   "outputs": [
    {
     "name": "stderr",
     "output_type": "stream",
     "text": [
      "Cannot initialize model with low cpu memory usage because `accelerate` was not found in the environment. Defaulting to `low_cpu_mem_usage=False`. It is strongly recommended to install `accelerate` for faster and less memory-intense model loading. You can do so with: \n",
      "```\n",
      "pip install accelerate\n",
      "```\n",
      ".\n"
     ]
    },
    {
     "data": {
      "application/vnd.jupyter.widget-view+json": {
       "model_id": "c6b1b206bc354bc7b702108e6ba40b46",
       "version_major": 2,
       "version_minor": 0
      },
      "text/plain": [
       "Fetching 30 files:   0%|          | 0/30 [00:00<?, ?it/s]"
      ]
     },
     "metadata": {},
     "output_type": "display_data"
    },
    {
     "name": "stderr",
     "output_type": "stream",
     "text": [
      "The config attributes {'scaling_factor': 0.18215} were passed to AutoencoderKL, but are not expected and will be ignored. Please verify your config.json configuration file.\n",
      "`text_config_dict` is provided which will be used to initialize `CLIPTextConfig`. The value `text_config[\"id2label\"]` will be overriden.\n",
      "`text_config_dict` is provided which will be used to initialize `CLIPTextConfig`. The value `text_config[\"bos_token_id\"]` will be overriden.\n",
      "`text_config_dict` is provided which will be used to initialize `CLIPTextConfig`. The value `text_config[\"eos_token_id\"]` will be overriden.\n"
     ]
    }
   ],
   "source": [
    "device = torch.device('cuda:0') if torch.cuda.is_available() else torch.device('cpu')\n",
    "ldm_stable = StableDiffusionPipeline.from_pretrained(\"CompVis/stable-diffusion-v1-4\").to(device)\n",
    "tokenizer = ldm_stable.tokenizer"
   ]
  },
  {
   "cell_type": "code",
   "execution_count": 5,
   "id": "85923034-57b0-4f81-b2ff-d1b0eb82f7fb",
   "metadata": {},
   "outputs": [],
   "source": [
    "def run_and_display(prompts, controller, latent=None, run_baseline=False, generator=None):\n",
    "    if run_baseline:\n",
    "        print(\"w.o. prompt-to-prompt\")\n",
    "        images, latent = run_and_display(prompts, EmptyControl(), latent=latent, run_baseline=False, generator=generator)\n",
    "        print(\"with prompt-to-prompt\")\n",
    "    images, x_t = ptp_utils.text2image_ldm_stable(ldm_stable, prompts, controller, latent=latent, num_inference_steps=NUM_DIFFUSION_STEPS, guidance_scale=GUIDANCE_SCALE, generator=generator, low_resource=LOW_RESOURCE)\n",
    "    ptp_utils.view_images(images)\n",
    "    return images, x_t"
   ]
  },
  {
   "cell_type": "code",
   "execution_count": 6,
   "id": "2a2ab875-d46c-4c50-a3d3-ea702649dda3",
   "metadata": {},
   "outputs": [
    {
     "ename": "NameError",
     "evalue": "name 'LOW_RESOURCE' is not defined",
     "output_type": "error",
     "traceback": [
      "\u001b[0;31m---------------------------------------------------------------------------\u001b[0m",
      "\u001b[0;31mNameError\u001b[0m                                 Traceback (most recent call last)",
      "Cell \u001b[0;32mIn[6], line 4\u001b[0m\n\u001b[1;32m      2\u001b[0m prompts \u001b[38;5;241m=\u001b[39m [\u001b[38;5;124m\"\u001b[39m\u001b[38;5;124mA painting of a squirrel eating a burger\u001b[39m\u001b[38;5;124m\"\u001b[39m]\n\u001b[1;32m      3\u001b[0m controller \u001b[38;5;241m=\u001b[39m AttentionStore()\n\u001b[0;32m----> 4\u001b[0m image, x_t \u001b[38;5;241m=\u001b[39m \u001b[43mrun_and_display\u001b[49m\u001b[43m(\u001b[49m\u001b[43mprompts\u001b[49m\u001b[43m,\u001b[49m\u001b[43m \u001b[49m\u001b[43mcontroller\u001b[49m\u001b[43m,\u001b[49m\u001b[43m \u001b[49m\u001b[43mlatent\u001b[49m\u001b[38;5;241;43m=\u001b[39;49m\u001b[38;5;28;43;01mNone\u001b[39;49;00m\u001b[43m,\u001b[49m\u001b[43m \u001b[49m\u001b[43mrun_baseline\u001b[49m\u001b[38;5;241;43m=\u001b[39;49m\u001b[38;5;28;43;01mFalse\u001b[39;49;00m\u001b[43m,\u001b[49m\u001b[43m \u001b[49m\u001b[43mgenerator\u001b[49m\u001b[38;5;241;43m=\u001b[39;49m\u001b[43mg_cpu\u001b[49m\u001b[43m)\u001b[49m\n\u001b[1;32m      5\u001b[0m \u001b[38;5;66;03m# show_cross_attention(controller, res=16, from_where=(\"up\", \"down\"))\u001b[39;00m\n",
      "Cell \u001b[0;32mIn[5], line 6\u001b[0m, in \u001b[0;36mrun_and_display\u001b[0;34m(prompts, controller, latent, run_baseline, generator)\u001b[0m\n\u001b[1;32m      4\u001b[0m     images, latent \u001b[38;5;241m=\u001b[39m run_and_display(prompts, EmptyControl(), latent\u001b[38;5;241m=\u001b[39mlatent, run_baseline\u001b[38;5;241m=\u001b[39m\u001b[38;5;28;01mFalse\u001b[39;00m, generator\u001b[38;5;241m=\u001b[39mgenerator)\n\u001b[1;32m      5\u001b[0m     \u001b[38;5;28mprint\u001b[39m(\u001b[38;5;124m\"\u001b[39m\u001b[38;5;124mwith prompt-to-prompt\u001b[39m\u001b[38;5;124m\"\u001b[39m)\n\u001b[0;32m----> 6\u001b[0m images, x_t \u001b[38;5;241m=\u001b[39m ptp_utils\u001b[38;5;241m.\u001b[39mtext2image_ldm_stable(ldm_stable, prompts, controller, latent\u001b[38;5;241m=\u001b[39mlatent, num_inference_steps\u001b[38;5;241m=\u001b[39mNUM_DIFFUSION_STEPS, guidance_scale\u001b[38;5;241m=\u001b[39mGUIDANCE_SCALE, generator\u001b[38;5;241m=\u001b[39mgenerator, low_resource\u001b[38;5;241m=\u001b[39m\u001b[43mLOW_RESOURCE\u001b[49m)\n\u001b[1;32m      7\u001b[0m ptp_utils\u001b[38;5;241m.\u001b[39mview_images(images)\n\u001b[1;32m      8\u001b[0m \u001b[38;5;28;01mreturn\u001b[39;00m images, x_t\n",
      "\u001b[0;31mNameError\u001b[0m: name 'LOW_RESOURCE' is not defined"
     ]
    }
   ],
   "source": [
    "g_cpu = torch.Generator().manual_seed(8888)\n",
    "prompts = [\"A painting of a squirrel eating a burger\"]\n",
    "controller = AttentionStore()\n",
    "image, x_t = run_and_display(prompts, controller, latent=None, run_baseline=False, generator=g_cpu)\n",
    "# show_cross_attention(controller, res=16, from_where=(\"up\", \"down\"))"
   ]
  },
  {
   "cell_type": "code",
   "execution_count": null,
   "id": "96e4b5ef-0234-455b-b4cc-140871abb4c8",
   "metadata": {},
   "outputs": [],
   "source": []
  }
 ],
 "metadata": {
  "kernelspec": {
   "display_name": "Python 3 (ipykernel)",
   "language": "python",
   "name": "python3"
  },
  "language_info": {
   "codemirror_mode": {
    "name": "ipython",
    "version": 3
   },
   "file_extension": ".py",
   "mimetype": "text/x-python",
   "name": "python",
   "nbconvert_exporter": "python",
   "pygments_lexer": "ipython3",
   "version": "3.9.18"
  }
 },
 "nbformat": 4,
 "nbformat_minor": 5
}
