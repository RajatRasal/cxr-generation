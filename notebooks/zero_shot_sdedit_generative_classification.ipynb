{
 "cells": [
  {
   "cell_type": "code",
   "execution_count": 1,
   "id": "bf469f23-693e-4067-bfd4-67d1bd438775",
   "metadata": {},
   "outputs": [
    {
     "name": "stderr",
     "output_type": "stream",
     "text": [
      "/vol/biomedic3/rrr2417/cxr-generation/notebooks/diffedit_diffusers/lib/python3.9/site-packages/transformers/utils/hub.py:123: FutureWarning: Using `TRANSFORMERS_CACHE` is deprecated and will be removed in v5 of Transformers. Use `HF_HOME` instead.\n",
      "  warnings.warn(\n"
     ]
    }
   ],
   "source": [
    "from typing import List, Union\n",
    "\n",
    "import matplotlib.pyplot as plt\n",
    "import numpy as np\n",
    "import torch\n",
    "from PIL import Image\n",
    "from torchvision import transforms\n",
    "from torchvision.datasets import CIFAR10\n",
    "from diffusers import StableDiffusionPipeline, StableDiffusionImg2ImgPipeline"
   ]
  },
  {
   "cell_type": "code",
   "execution_count": 2,
   "id": "dab9af57-bc2b-4043-9d54-23885f4e41d4",
   "metadata": {},
   "outputs": [
    {
     "name": "stdout",
     "output_type": "stream",
     "text": [
      "Files already downloaded and verified\n"
     ]
    }
   ],
   "source": [
    "dataset = CIFAR10(root=\"~/.cache\", download=True)\n",
    "\n",
    "full_labels = [\n",
    "    \"airplane\",\n",
    "    \"automobile\",\n",
    "    \"bird\",\n",
    "    \"cat\",\n",
    "    \"deer\",\n",
    "    \"dog\",\n",
    "    \"frog\",\n",
    "    \"horse\",\n",
    "    \"ship\",\n",
    "    \"truck\",\n",
    "]"
   ]
  },
  {
   "cell_type": "code",
   "execution_count": 3,
   "id": "7113e103-b36f-40dd-8e80-a27b2fe26ffb",
   "metadata": {},
   "outputs": [
    {
     "data": {
      "application/vnd.jupyter.widget-view+json": {
       "model_id": "6a74a100987844228398c369820245dc",
       "version_major": 2,
       "version_minor": 0
      },
      "text/plain": [
       "Loading pipeline components...:   0%|          | 0/6 [00:00<?, ?it/s]"
      ]
     },
     "metadata": {},
     "output_type": "display_data"
    }
   ],
   "source": [
    "pipe = StableDiffusionImg2ImgPipeline.from_pretrained(\n",
    "    \"runwayml/stable-diffusion-v1-5\",\n",
    "    torch_dtype=torch.float16,\n",
    "    safety_checker=None,\n",
    "    requires_safety_checker=False,\n",
    ").to(\"cuda\")\n",
    "pipe.set_progress_bar_config(disable=True)"
   ]
  },
  {
   "cell_type": "code",
   "execution_count": 4,
   "id": "d6d822a7-04d6-41a0-a5b3-ff50467ee0ae",
   "metadata": {},
   "outputs": [],
   "source": [
    "import statistics\n",
    "\n",
    "import scipy  # .stats.ttest_ind\n",
    "from tqdm import tqdm\n",
    "\n",
    "\n",
    "preprocess = transforms.Compose(\n",
    "    [\n",
    "        transforms.Resize(512, interpolation=transforms.InterpolationMode.BILINEAR),\n",
    "        # transforms.CenterCrop(args.resolution) if args.center_crop else transforms.RandomCrop(args.resolution),\n",
    "        # transforms.RandomHorizontalFlip() if args.random_flip else transforms.Lambda(lambda x: x),\n",
    "        transforms.ToTensor(),\n",
    "        transforms.Normalize([0.5], [0.5]),\n",
    "    ]\n",
    ")\n",
    "\n",
    "def generative_classification_clark(\n",
    "    model: StableDiffusionImg2ImgPipeline,\n",
    "    image: Image.Image,\n",
    "    classes: List[str],\n",
    "    num_inference_steps: int = 500,\n",
    "    min_scores: int = 20,\n",
    "    max_scores: int = 2000,\n",
    "    cutoff_pval: float = 5e-3,\n",
    "    g = None,\n",
    "):\n",
    "    image = preprocess(image)\n",
    "    # scheduler = model.scheduler\n",
    "    \n",
    "    scores = {_class: [] for _class in classes}\n",
    "    n = 0\n",
    "    denoised_images = []\n",
    "    min_mean = float(\"inf\")\n",
    "    min_mean_class = None\n",
    "    pbar = tqdm(total=max_scores)\n",
    "    while len(scores) > 1 and n < max_scores:\n",
    "        n += 1\n",
    "        pbar.update(1)\n",
    "        \n",
    "        # Noise the image by sampling t ~ U[0,1] then generating x_t ~ q(x_t|x)\n",
    "        # t = torch.randint(200, 201, (1,))  # 1, scheduler.num_train_timesteps, (1,))\n",
    "        # noise = torch.randn(image.shape, generator=g)\n",
    "        # noisy_image = scheduler.add_noise(image, noise, t).half().unsqueeze(0)\n",
    "        \n",
    "        # for _class, score in scores.items():\n",
    "        # TODO: Text conditioning\n",
    "        # TODO: Weighting function\n",
    "        # image_latent = model.vae.encode(noisy_image.cuda()).latent_dist.sample() * model.vae.config.scaling_factor\n",
    "        # prompt = f\"A photo of a {_class}\"\n",
    "        denoised_images = model(\n",
    "            prompt=[f\"A photo of a {c}\" for c in classes],\n",
    "            image=image,\n",
    "            generator=g,\n",
    "            strength=0.5,\n",
    "            num_inference_steps=num_inference_steps,\n",
    "            output_type=\"np.array\",\n",
    "        ).images\n",
    "\n",
    "        for i, (_class, score) in enumerate(scores.items()):\n",
    "            score.append(int((image.permute(1, 2, 0) - denoised_images[i]).norm()))\n",
    "            if (class_mean := statistics.mean(score)) < min_mean:\n",
    "                min_mean = class_mean\n",
    "                min_mean_class = _class\n",
    "            \n",
    "        if n >= min_scores:\n",
    "            pvals = []\n",
    "            for _class in list(scores.keys()):\n",
    "                if _class == min_mean_class:\n",
    "                    continue\n",
    "                score = scores[_class]\n",
    "                x = scipy.stats.ttest_ind(scores[min_mean_class], scores[_class]).pvalue\n",
    "                pvals.append(x)\n",
    "                if x < cutoff_pval:\n",
    "                    del scores[_class]\n",
    "\n",
    "    pbar.close()\n",
    "\n",
    "    statistical_significance = len(scores) == 1\n",
    "    \n",
    "    return min_mean_class, statistical_significance"
   ]
  },
  {
   "cell_type": "code",
   "execution_count": 5,
   "id": "2da6955a-575f-4412-92cc-043c850437ff",
   "metadata": {},
   "outputs": [
    {
     "name": "stdout",
     "output_type": "stream",
     "text": [
      "['cat', 'dog']\n"
     ]
    }
   ],
   "source": [
    "label_idxs = [3, 5]\n",
    "dataset_max_size = 10\n",
    "\n",
    "idxs = [i for i, (img, _class) in enumerate(dataset) if _class in label_idxs]\n",
    "idxs = idxs[:min(len(idxs), dataset_max_size)]\n",
    "\n",
    "filtered_labels = [l for i, l in enumerate(full_labels) if i in label_idxs]\n",
    "print(filtered_labels)"
   ]
  },
  {
   "cell_type": "code",
   "execution_count": 22,
   "id": "3e131f1b-fd7d-4fe1-bfba-19de752f08a7",
   "metadata": {},
   "outputs": [
    {
     "name": "stdout",
     "output_type": "stream",
     "text": [
      "\n"
     ]
    },
    {
     "name": "stderr",
     "output_type": "stream",
     "text": [
      "  0%|                                      | 0/40 [00:00<?, ?it/s]/vol/biomedic3/rrr2417/cxr-generation/notebooks/diffedit_diffusers/lib/python3.9/site-packages/diffusers/image_processor.py:540: FutureWarning: Passing `image` as torch tensor with value range in [-1,1] is deprecated. The expected value range for image tensor is [0,1] when passing as pytorch tensor or numpy Array. You passed `image` with value range [-0.9137254953384399,0.7019608020782471]\n",
      "  warnings.warn(\n",
      "/vol/biomedic3/rrr2417/cxr-generation/notebooks/diffedit_diffusers/lib/python3.9/site-packages/diffusers/pipelines/stable_diffusion/pipeline_stable_diffusion_img2img.py:675: FutureWarning: You have passed 2 text prompts (`prompt`), but only 1 initial images (`image`). Initial images are now duplicating to match the number of text prompts. Note that this behavior is deprecated and will be removed in a version 1.0.0. Please make sure to update your script to pass as many initial images as text prompts to suppress this warning.\n",
      "  deprecate(\"len(prompt) != len(image)\", \"1.0.0\", deprecation_message, standard_warn=False)\n",
      "/vol/biomedic3/rrr2417/cxr-generation/notebooks/diffedit_diffusers/lib/python3.9/site-packages/diffusers/image_processor.py:586: FutureWarning: the output_type np.array is outdated and has been set to `np`. Please make sure to set it to one of these instead: `pil`, `np`, `pt`, `latent`\n",
      "  deprecate(\"Unsupported output_type\", \"1.0.0\", deprecation_message, standard_warn=False)\n",
      " 28%|███████▉                     | 11/40 [01:55<05:04, 10.50s/it]\n"
     ]
    },
    {
     "name": "stdout",
     "output_type": "stream",
     "text": [
      "Actual class: cat, Predicted class: cat\n",
      "\n"
     ]
    },
    {
     "name": "stderr",
     "output_type": "stream",
     "text": [
      "  0%|                                      | 0/40 [00:00<?, ?it/s]/vol/biomedic3/rrr2417/cxr-generation/notebooks/diffedit_diffusers/lib/python3.9/site-packages/diffusers/image_processor.py:540: FutureWarning: Passing `image` as torch tensor with value range in [-1,1] is deprecated. The expected value range for image tensor is [0,1] when passing as pytorch tensor or numpy Array. You passed `image` with value range [-0.8039215803146362,0.7647058963775635]\n",
      "  warnings.warn(\n",
      "100%|█████████████████████████████| 40/40 [09:44<00:00, 14.61s/it]\n"
     ]
    },
    {
     "name": "stdout",
     "output_type": "stream",
     "text": [
      "Actual class: cat, Predicted class: dog\n",
      "\n"
     ]
    },
    {
     "name": "stderr",
     "output_type": "stream",
     "text": [
      "  0%|                                      | 0/40 [00:00<?, ?it/s]/vol/biomedic3/rrr2417/cxr-generation/notebooks/diffedit_diffusers/lib/python3.9/site-packages/diffusers/image_processor.py:540: FutureWarning: Passing `image` as torch tensor with value range in [-1,1] is deprecated. The expected value range for image tensor is [0,1] when passing as pytorch tensor or numpy Array. You passed `image` with value range [-1.0,1.0]\n",
      "  warnings.warn(\n",
      " 25%|███████▎                     | 10/40 [02:06<06:18, 12.60s/it]\n"
     ]
    },
    {
     "name": "stdout",
     "output_type": "stream",
     "text": [
      "Actual class: cat, Predicted class: dog\n",
      "\n"
     ]
    },
    {
     "name": "stderr",
     "output_type": "stream",
     "text": [
      "  0%|                                      | 0/40 [00:00<?, ?it/s]/vol/biomedic3/rrr2417/cxr-generation/notebooks/diffedit_diffusers/lib/python3.9/site-packages/diffusers/image_processor.py:540: FutureWarning: Passing `image` as torch tensor with value range in [-1,1] is deprecated. The expected value range for image tensor is [0,1] when passing as pytorch tensor or numpy Array. You passed `image` with value range [-0.9843137264251709,0.7098039388656616]\n",
      "  warnings.warn(\n",
      " 25%|███████▎                     | 10/40 [01:44<05:14, 10.47s/it]\n"
     ]
    },
    {
     "name": "stdout",
     "output_type": "stream",
     "text": [
      "Actual class: cat, Predicted class: dog\n",
      "\n"
     ]
    },
    {
     "name": "stderr",
     "output_type": "stream",
     "text": [
      "  0%|                                      | 0/40 [00:00<?, ?it/s]/vol/biomedic3/rrr2417/cxr-generation/notebooks/diffedit_diffusers/lib/python3.9/site-packages/diffusers/image_processor.py:540: FutureWarning: Passing `image` as torch tensor with value range in [-1,1] is deprecated. The expected value range for image tensor is [0,1] when passing as pytorch tensor or numpy Array. You passed `image` with value range [-1.0,0.7254902124404907]\n",
      "  warnings.warn(\n",
      " 62%|██████████████████▏          | 25/40 [04:21<02:37, 10.47s/it]\n"
     ]
    },
    {
     "name": "stdout",
     "output_type": "stream",
     "text": [
      "Actual class: dog, Predicted class: dog\n",
      "\n"
     ]
    },
    {
     "name": "stderr",
     "output_type": "stream",
     "text": [
      "  0%|                                      | 0/40 [00:00<?, ?it/s]/vol/biomedic3/rrr2417/cxr-generation/notebooks/diffedit_diffusers/lib/python3.9/site-packages/diffusers/image_processor.py:540: FutureWarning: Passing `image` as torch tensor with value range in [-1,1] is deprecated. The expected value range for image tensor is [0,1] when passing as pytorch tensor or numpy Array. You passed `image` with value range [-0.9921568632125854,0.8588235378265381]\n",
      "  warnings.warn(\n",
      "100%|█████████████████████████████| 40/40 [06:58<00:00, 10.47s/it]\n"
     ]
    },
    {
     "name": "stdout",
     "output_type": "stream",
     "text": [
      "Actual class: cat, Predicted class: cat\n",
      "\n"
     ]
    },
    {
     "name": "stderr",
     "output_type": "stream",
     "text": [
      "  0%|                                      | 0/40 [00:00<?, ?it/s]/vol/biomedic3/rrr2417/cxr-generation/notebooks/diffedit_diffusers/lib/python3.9/site-packages/diffusers/image_processor.py:540: FutureWarning: Passing `image` as torch tensor with value range in [-1,1] is deprecated. The expected value range for image tensor is [0,1] when passing as pytorch tensor or numpy Array. You passed `image` with value range [-0.7803921699523926,0.9686274528503418]\n",
      "  warnings.warn(\n",
      "100%|█████████████████████████████| 40/40 [06:59<00:00, 10.48s/it]\n"
     ]
    },
    {
     "name": "stdout",
     "output_type": "stream",
     "text": [
      "Actual class: cat, Predicted class: dog\n",
      "\n"
     ]
    },
    {
     "name": "stderr",
     "output_type": "stream",
     "text": [
      "100%|█████████████████████████████| 40/40 [06:58<00:00, 10.47s/it]\n"
     ]
    },
    {
     "name": "stdout",
     "output_type": "stream",
     "text": [
      "Actual class: cat, Predicted class: dog\n",
      "\n"
     ]
    },
    {
     "name": "stderr",
     "output_type": "stream",
     "text": [
      "  0%|                                      | 0/40 [00:00<?, ?it/s]/vol/biomedic3/rrr2417/cxr-generation/notebooks/diffedit_diffusers/lib/python3.9/site-packages/diffusers/image_processor.py:540: FutureWarning: Passing `image` as torch tensor with value range in [-1,1] is deprecated. The expected value range for image tensor is [0,1] when passing as pytorch tensor or numpy Array. You passed `image` with value range [-0.843137264251709,1.0]\n",
      "  warnings.warn(\n",
      "100%|█████████████████████████████| 40/40 [06:58<00:00, 10.47s/it]\n"
     ]
    },
    {
     "name": "stdout",
     "output_type": "stream",
     "text": [
      "Actual class: cat, Predicted class: cat\n",
      "\n"
     ]
    },
    {
     "name": "stderr",
     "output_type": "stream",
     "text": [
      "  0%|                                      | 0/40 [00:00<?, ?it/s]/vol/biomedic3/rrr2417/cxr-generation/notebooks/diffedit_diffusers/lib/python3.9/site-packages/diffusers/image_processor.py:540: FutureWarning: Passing `image` as torch tensor with value range in [-1,1] is deprecated. The expected value range for image tensor is [0,1] when passing as pytorch tensor or numpy Array. You passed `image` with value range [-1.0,0.9921568632125854]\n",
      "  warnings.warn(\n",
      "100%|█████████████████████████████| 40/40 [06:58<00:00, 10.46s/it]"
     ]
    },
    {
     "name": "stdout",
     "output_type": "stream",
     "text": [
      "Actual class: dog, Predicted class: dog\n"
     ]
    },
    {
     "name": "stderr",
     "output_type": "stream",
     "text": [
      "\n"
     ]
    }
   ],
   "source": [
    "g = torch.Generator(device='cpu')\n",
    "g.manual_seed(42)\n",
    "\n",
    "preds = []\n",
    "significance = []\n",
    "for i in idxs:\n",
    "    raw_image, _class = dataset[i]\n",
    "    print()\n",
    "    pred, significant = generative_classification_clark(\n",
    "        pipe,\n",
    "        raw_image,\n",
    "        filtered_labels,\n",
    "        num_inference_steps=500,\n",
    "        g=g,\n",
    "        min_scores=10,\n",
    "        max_scores=40,\n",
    "        cutoff_pval=0.1,\n",
    "    )\n",
    "    print(f\"Actual class: {full_labels[_class]}, Predicted class: {pred}\")\n",
    "    preds.append(full_labels.index(pred))\n",
    "    significance.append(significant)"
   ]
  },
  {
   "cell_type": "code",
   "execution_count": 23,
   "id": "33d3d6a8-a9cc-43c9-ac01-89e666747bb8",
   "metadata": {},
   "outputs": [
    {
     "name": "stdout",
     "output_type": "stream",
     "text": [
      "Confusion Matrix\n",
      "[[3 0]\n",
      " [5 2]]\n",
      "\n",
      "Accuracy: 0.5 \n",
      "\n",
      "Significance: 0.4\n"
     ]
    }
   ],
   "source": [
    "from sklearn.metrics import accuracy_score, confusion_matrix\n",
    "\n",
    "labels = [dataset[i][1] for i in idxs]\n",
    "print(\"Confusion Matrix\")\n",
    "print(confusion_matrix(preds, labels))\n",
    "print()\n",
    "print(\"Accuracy:\", accuracy_score(preds, labels), \"\\n\")\n",
    "print(\"Significance:\", sum(significance) / len(significance))"
   ]
  },
  {
   "cell_type": "code",
   "execution_count": 24,
   "id": "2ac4935c-94e5-4d29-9d18-adf890c82074",
   "metadata": {},
   "outputs": [
    {
     "data": {
      "text/plain": [
       "Counter({3: 8, 5: 2})"
      ]
     },
     "execution_count": 24,
     "metadata": {},
     "output_type": "execute_result"
    }
   ],
   "source": [
    "from collections import Counter\n",
    "Counter(labels)"
   ]
  },
  {
   "cell_type": "code",
   "execution_count": null,
   "id": "1e424ea1-691c-48f8-b9ff-f653770a82e2",
   "metadata": {},
   "outputs": [],
   "source": []
  }
 ],
 "metadata": {
  "kernelspec": {
   "display_name": "Python 3 (ipykernel)",
   "language": "python",
   "name": "python3"
  },
  "language_info": {
   "codemirror_mode": {
    "name": "ipython",
    "version": 3
   },
   "file_extension": ".py",
   "mimetype": "text/x-python",
   "name": "python",
   "nbconvert_exporter": "python",
   "pygments_lexer": "ipython3",
   "version": "3.9.18"
  }
 },
 "nbformat": 4,
 "nbformat_minor": 5
}
